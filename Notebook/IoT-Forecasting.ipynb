{
 "cells": [
  {
   "cell_type": "markdown",
   "metadata": {
    "id": "9f568e57-a661-41c0-b59b-cfa16ecc119c"
   },
   "source": [
    "#### Install the required packages "
   ]
  },
  {
   "cell_type": "code",
   "execution_count": null,
   "metadata": {
    "id": "a4f4f7d620dd4a5fb51bcae48f923c19"
   },
   "outputs": [],
   "source": [
    "!pip install mysql-connector-python"
   ]
  },
  {
   "cell_type": "code",
   "execution_count": null,
   "metadata": {
    "id": "df3760e6-7cf8-4d6a-8954-2a1799eb31f2"
   },
   "outputs": [],
   "source": [
    "!pip install PyMySQL"
   ]
  },
  {
   "cell_type": "markdown",
   "metadata": {
    "id": "f4ebcc8f1d9641038e461abeddb694c2"
   },
   "source": [
    "#### Import the required libraries"
   ]
  },
  {
   "cell_type": "code",
   "execution_count": null,
   "metadata": {
    "id": "dff28bb8-da45-48df-9304-a1c1a09ea0a4"
   },
   "outputs": [],
   "source": [
    "import numpy as np \n",
    "import pandas as pd \n",
    "import matplotlib.pyplot as plt\n",
    "from statsmodels.tsa.seasonal import seasonal_decompose \n",
    "import datetime \n",
    "import itertools\n",
    "plt.style.use(\"fivethirtyeight\")\n",
    "import statsmodels.api as sm\n",
    "import matplotlib\n",
    "import warnings\n",
    "import math\n",
    "import mysql.connector\n",
    "import sqlalchemy\n",
    "from sqlalchemy import create_engine\n",
    "from project_lib import Project\n",
    "warnings.filterwarnings('ignore')\n",
    "matplotlib.rcParams['axes.labelsize'] = 14\n",
    "matplotlib.rcParams['xtick.labelsize'] = 12\n",
    "matplotlib.rcParams['ytick.labelsize'] = 12"
   ]
  },
  {
   "cell_type": "markdown",
   "metadata": {
    "id": "4a0e0619a1ba4ed0b77ede8bddd78eb3"
   },
   "source": [
    "#### Fill the following details "
   ]
  },
  {
   "cell_type": "code",
   "execution_count": null,
   "metadata": {
    "id": "dfb8876dfb5e4e8a832be65aac667b14"
   },
   "outputs": [],
   "source": [
    "host = \"\"\n",
    "username = \"\"\n",
    "password = \"\"\n",
    "database = \"iotprediction\""
   ]
  },
  {
   "cell_type": "code",
   "execution_count": null,
   "metadata": {
    "id": "28d2c169-e19a-4d45-8abd-911c14929d88"
   },
   "outputs": [],
   "source": [
    "credentials = {\"host\": host, \n",
    "               \"username\": username, \n",
    "               \"password\": password, \n",
    "               \"database\": database}\n",
    "\n",
    "conn = mysql.connector.connect( user=credentials['username'], password=credentials['password'], host=credentials['host'], database=credentials['database'])\n",
    "\n",
    "cursor = conn.cursor()\n",
    "\n",
    "cursor.execute(\"SELECT * FROM data\")\n",
    "\n",
    "myresult = cursor.fetchall()\n",
    "\n",
    "field_names = [i[0] for i in cursor.description]\n",
    "\n",
    "df_data_1= pd.DataFrame(myresult, columns = field_names)\n",
    "df = df_data_1.sort_values(by=['id'])\n",
    "df.columns = ['id', 'date', 'temp']\n",
    "df = df.dropna()\n",
    "df"
   ]
  },
  {
   "cell_type": "code",
   "execution_count": null,
   "metadata": {
    "id": "0c101082-f1ed-47ed-b118-4c6afab6ead9"
   },
   "outputs": [],
   "source": [
    "df['date'] = pd.to_datetime(df['date'], format='%d-%m-%Y %H:%M')\n",
    "df['full-date'] = [d.date() for d in df['date']]\n",
    "df['year'] = df['date'].apply(lambda x : x.year)\n",
    "df['month'] = df['date'].apply(lambda x : x.month)\n",
    "df['day'] = df['date'].apply(lambda x : x.day)\n",
    "df.head()"
   ]
  },
  {
   "cell_type": "markdown",
   "metadata": {
    "id": "8f30b3a8-acad-4446-bc37-f749248db62e"
   },
   "source": [
    "#### Time series analysis"
   ]
  },
  {
   "cell_type": "code",
   "execution_count": null,
   "metadata": {
    "id": "f86614a1-dcb6-42d8-a838-8567c4895bb0"
   },
   "outputs": [],
   "source": [
    "grouped_single = df.groupby(['year','month','day','full-date']).agg({'temp': ['mean']})\n",
    "grouped_single.columns = ['temp_mean']\n",
    "grouped_single = grouped_single.reset_index()\n",
    "grouped_single = grouped_single.set_index('full-date')\n",
    "y = grouped_single.temp_mean\n",
    "print(y)\n",
    "print(\"\")\n",
    "print(\"Average temperature plot daywise\")\n",
    "y.plot(figsize = (20,6))\n",
    "plt.show()"
   ]
  },
  {
   "cell_type": "code",
   "execution_count": null,
   "metadata": {
    "id": "5975f7ef-5bd6-4c1b-b990-592132e9947d"
   },
   "outputs": [],
   "source": [
    "p = d = q = range(0,2)\n",
    "pdq = list(itertools.product(p,d,q))\n",
    "seasonal_pdq = [(x[0],x[1],x[2],1) for x in list(itertools.product(p,d,q))]\n",
    "\n",
    "for param in pdq:\n",
    "    for param_seasonal in seasonal_pdq:\n",
    "        try:\n",
    "            mod = sm.tsa.statespace.SARIMAX(y,\n",
    "                                            order = param,\n",
    "                                            seasonal_order = param_seasonal,\n",
    "                                            enforce_stationarity = False,\n",
    "                                            enforce_invertibility = False)\n",
    "            result = mod.fit()\n",
    "        except :\n",
    "            continue\n",
    "\n",
    "mod = sm.tsa.statespace.SARIMAX(y,\n",
    "                               order =(1,1,1),\n",
    "                               param_seasonal = (0,0,0,1),\n",
    "                               enforce_stationarity = False,\n",
    "                               enforce_invertibility = False)\n",
    "result = mod.fit()\n",
    "\n",
    "dates_list=[]\n",
    "for k,v in y.items():\n",
    "    dates_list.append(str(k)) \n",
    "date_index = int((len(dates_list))/2)\n",
    "startdate = datetime.datetime.strptime(dates_list[0], \"%Y-%m-%d\").date()\n",
    "enddate = datetime.datetime.strptime(dates_list[date_index-1], \"%Y-%m-%d\").date()\n",
    "predictdate = datetime.datetime.strptime(dates_list[date_index], \"%Y-%m-%d\").date()"
   ]
  },
  {
   "cell_type": "code",
   "execution_count": null,
   "metadata": {
    "id": "096a16af-51d1-49bd-8b0f-7e42c6d405ea"
   },
   "outputs": [],
   "source": [
    "pred = result.get_prediction(start = enddate,dynamic = False)\n",
    "pred_ci = pred.conf_int()\n",
    "ax = y[startdate:enddate].plot(label = 'observed')"
   ]
  },
  {
   "cell_type": "code",
   "execution_count": null,
   "metadata": {
    "id": "842b6fcd-9d53-4a22-baaa-5d26e1c7ed8b"
   },
   "outputs": [],
   "source": [
    "pred = result.get_prediction(start = pd.to_datetime(startdate),dynamic = False)\n",
    "pred_ci = pred.conf_int()\n",
    "ax = y[startdate:].plot(label = 'observed')"
   ]
  },
  {
   "cell_type": "code",
   "execution_count": null,
   "metadata": {
    "id": "3a22aaed-48ca-47e1-b91e-5ba8d543d726"
   },
   "outputs": [],
   "source": [
    "print(\"Predicted and actual temperature table\")\n",
    "y_Forecasted = pred.predicted_mean\n",
    "y_truth = y[predictdate:]\n",
    "print(y_truth)"
   ]
  },
  {
   "cell_type": "code",
   "execution_count": null,
   "metadata": {
    "id": "f20f7ff5-0553-478c-a59b-15ea4249e763",
    "scrolled": true
   },
   "outputs": [],
   "source": [
    "actual_pred_table = y_truth.to_frame().join(y_Forecasted.to_frame())\n",
    "actual_pred_table.columns =['temp_mean','predicted_mean']\n",
    "actual_pred_table['error'] = actual_pred_table.apply(lambda x : x.predicted_mean - x.temp_mean,axis = 1)\n",
    "actual_pred_table['error_square'] = actual_pred_table.apply(lambda x : x.error**2,axis = 1 )\n",
    "print(actual_pred_table)\n",
    "print(\"\")\n",
    "print(\"Error difference between actaul and predicted temperature is \", actual_pred_table.error.mean())\n",
    "print(\"mean square error difference between actaul and predicted temperature is \", round(math.sqrt(actual_pred_table.error_square.mean()),0))"
   ]
  },
  {
   "cell_type": "markdown",
   "metadata": {
    "id": "40c0b736d3094ee99cb47492a6353240"
   },
   "source": [
    "#### Prediction of temperature for the next 6 days"
   ]
  },
  {
   "cell_type": "code",
   "execution_count": null,
   "metadata": {
    "id": "b5dd2af5-e01a-4d4d-8f9b-59723341561c"
   },
   "outputs": [],
   "source": [
    "pred_uc = result.get_forecast(steps=6)\n",
    "pred_ci = pred_uc.conf_int()\n",
    "print(\"prediction of average temperature for next 6 days is\")\n",
    "pred_ci.index.name = 'foo'\n",
    "pred_ci.columns =['min','max'] \n",
    "pred_ci['Date'] = pred_ci.index\n",
    "pred_ci.reset_index(drop=True, inplace=True)\n",
    "pred_ci"
   ]
  },
  {
   "cell_type": "markdown",
   "metadata": {
    "id": "72dfc2663b474133b7c6581ebaae1e85"
   },
   "source": [
    "#### Visual representation of the prediction"
   ]
  },
  {
   "cell_type": "code",
   "execution_count": null,
   "metadata": {
    "id": "eac9835a-74da-4152-928b-c62abbd866cb"
   },
   "outputs": [],
   "source": [
    "pred_ci.plot('Date',figsize = (20,6))\n",
    "plt.axhline(y=31, color='r', linestyle='--')\n",
    "plt.axhline(y=27, color='r', linestyle='--')\n",
    "plt.show()"
   ]
  },
  {
   "cell_type": "markdown",
   "metadata": {
    "id": "60ae48e333414d6d84a834364b08edd1"
   },
   "source": [
    "#### Alerts from the prediction  "
   ]
  },
  {
   "cell_type": "code",
   "execution_count": null,
   "metadata": {
    "id": "1be12e865942475286dc51a1a4b4ff45"
   },
   "outputs": [],
   "source": [
    "print(\"On following dates the temperature could fall below minimum threshold\")\n",
    "for index, row in pred_ci.loc[(pred_ci['min'] < 27)].iterrows():\n",
    "    print(pd.to_datetime(row['Date']).date())\n",
    "    \n",
    "print(\"On following dates the temperature could raise above maximum threshold\")\n",
    "for index, row in pred_ci.loc[(pred_ci['max'] > 31)].iterrows():\n",
    "    print(pd.to_datetime(row['Date']).date())"
   ]
  },
  {
   "cell_type": "markdown",
   "metadata": {
    "id": "0488e958e06043a6af2163d84c41f652"
   },
   "source": [
    "#### Store the data back in SingleStore Database for visualisation"
   ]
  },
  {
   "cell_type": "code",
   "execution_count": null,
   "metadata": {
    "id": "26ddbc39-7d39-4d4f-a326-409e61cf45d0"
   },
   "outputs": [],
   "source": [
    "# Insert the dataframe into singlestore\n",
    "cursor.execute(\"DROP TABLE IF EXISTS predictions\")\n",
    "engine = sqlalchemy.create_engine('mysql+mysqlconnector://{0}:{1}@{2}/{3}'. \n",
    "                                               format(credentials['username'], \n",
    "                                                      credentials['password'], \n",
    "                                                      credentials['host'], \n",
    "                                                      credentials['database']))\n",
    "pred_ci.to_sql('predictions', con = engine, if_exists = 'append', chunksize = 1000, index= False)\n",
    "\n",
    "conn = mysql.connector.connect( user=credentials['username'], password=credentials['password'], host=credentials['host'], database=credentials['database'])\n",
    "\n",
    "cursor = conn.cursor()\n",
    "\n",
    "cursor.execute(\"SELECT * FROM predictions\")\n",
    "\n",
    "myresult = cursor.fetchall()\n",
    "\n",
    "field_names = [i[0] for i in cursor.description]\n",
    "\n",
    "df_data_1= pd.DataFrame(myresult, columns = field_names)\n",
    "df_data_1"
   ]
  },
  {
   "cell_type": "code",
   "execution_count": null,
   "metadata": {
    "id": "237888a2-1517-423b-b485-72685aece780"
   },
   "outputs": [],
   "source": [
    "conn.close()"
   ]
  },
  {
   "cell_type": "code",
   "execution_count": null,
   "metadata": {
    "id": "6e770611187d4db3ad68ba7a1c988905"
   },
   "outputs": [],
   "source": [
    "# Save the file locally\n",
    "project = Project.access()\n",
    "project.save_data(\"temp-predictions.csv\", df_data_1.to_csv(index=False), overwrite = True)"
   ]
  },
  {
   "cell_type": "code",
   "execution_count": null,
   "metadata": {
    "id": "41801f3d-6247-4dd0-8d55-2cc3f0ca8830"
   },
   "outputs": [],
   "source": []
  }
 ],
 "metadata": {
  "kernelspec": {
   "display_name": "Python 3.7",
   "language": "python",
   "name": "python3"
  },
  "language_info": {
   "codemirror_mode": {
    "name": "ipython",
    "version": 3
   },
   "file_extension": ".py",
   "mimetype": "text/x-python",
   "name": "python",
   "nbconvert_exporter": "python",
   "pygments_lexer": "ipython3",
   "version": "3.7.9"
  }
 },
 "nbformat": 4,
 "nbformat_minor": 4
}
